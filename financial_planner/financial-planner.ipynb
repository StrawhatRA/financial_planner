{
 "cells": [
  {
   "cell_type": "markdown",
   "metadata": {},
   "source": [
    "# Unit 5 - Financial Planning"
   ]
  },
  {
   "cell_type": "code",
   "execution_count": 1,
   "metadata": {},
   "outputs": [],
   "source": [
    "# Initial imports\n",
    "import os\n",
    "import requests\n",
    "import pandas as pd\n",
    "from dotenv import load_dotenv\n",
    "import alpaca_trade_api as tradeapi\n",
    "from MCForecastTools import MCSimulation\n",
    "\n",
    "%matplotlib inline"
   ]
  },
  {
   "cell_type": "code",
   "execution_count": 2,
   "metadata": {},
   "outputs": [
    {
     "data": {
      "text/plain": [
       "True"
      ]
     },
     "execution_count": 2,
     "metadata": {},
     "output_type": "execute_result"
    }
   ],
   "source": [
    "# Load .env enviroment variables\n",
    "load_dotenv()"
   ]
  },
  {
   "cell_type": "markdown",
   "metadata": {},
   "source": [
    "## Part 1 - Personal Finance Planner"
   ]
  },
  {
   "cell_type": "markdown",
   "metadata": {},
   "source": [
    "### Collect Crypto Prices Using the `requests` Library"
   ]
  },
  {
   "cell_type": "code",
   "execution_count": 3,
   "metadata": {},
   "outputs": [],
   "source": [
    "# Set current amount of crypto assets\n",
    "my_btc = 1.2\n",
    "my_eth = 5.3"
   ]
  },
  {
   "cell_type": "code",
   "execution_count": 4,
   "metadata": {},
   "outputs": [],
   "source": [
    "# Crypto API URLs\n",
    "btc_url = \"https://api.alternative.me/v2/ticker/Bitcoin/?convert=CAD\"\n",
    "eth_url = \"https://api.alternative.me/v2/ticker/Ethereum/?convert=CAD\""
   ]
  },
  {
   "cell_type": "code",
   "execution_count": 5,
   "metadata": {},
   "outputs": [
    {
     "name": "stdout",
     "output_type": "stream",
     "text": [
      "The current value of your 1.2 BTC is $75306.68\n",
      "The current value of your 5.3 ETH is $27487.14\n"
     ]
    }
   ],
   "source": [
    "# Fetch current BTC price\n",
    "btc_response_data = requests.get(btc_url).json()\n",
    "btc_cad=btc_response_data[\"data\"][\"1\"][\"quotes\"][\"CAD\"][\"price\"]\n",
    "# Fetch current ETH price\n",
    "eth_response_data = requests.get(eth_url).json()\n",
    "eth_cad=eth_response_data[\"data\"][\"1027\"][\"quotes\"][\"CAD\"][\"price\"]\n",
    "# Compute current value of my crpto\n",
    "my_btc_value=my_btc*btc_cad\n",
    "my_eth_value=my_eth*eth_cad\n",
    "# Print current crypto wallet balance\n",
    "print(f\"The current value of your {my_btc} BTC is ${my_btc_value:0.2f}\")\n",
    "print(f\"The current value of your {my_eth} ETH is ${my_eth_value:0.2f}\")"
   ]
  },
  {
   "cell_type": "markdown",
   "metadata": {},
   "source": [
    "### Collect Investments Data Using Alpaca: `SPY` (stocks) and `AGG` (bonds)"
   ]
  },
  {
   "cell_type": "code",
   "execution_count": 6,
   "metadata": {},
   "outputs": [],
   "source": [
    "# Set current amount of shares\n",
    "my_agg = 200\n",
    "my_spy = 50"
   ]
  },
  {
   "cell_type": "code",
   "execution_count": 7,
   "metadata": {},
   "outputs": [],
   "source": [
    "# Set Alpaca API key and secret\n",
    "alpaca_api_key = os.getenv(\"ALPACA_API_KEY\")\n",
    "alpaca_secret_key = os.getenv(\"ALPACA_SECRET_KEY\")\n",
    "\n",
    "# Create the Alpaca API object\n",
    "api = tradeapi.REST(\n",
    "    alpaca_api_key,\n",
    "    alpaca_secret_key,\n",
    "    api_version = \"v2\"\n",
    ")"
   ]
  },
  {
   "cell_type": "code",
   "execution_count": 8,
   "metadata": {},
   "outputs": [
    {
     "data": {
      "text/html": [
       "<div>\n",
       "<style scoped>\n",
       "    .dataframe tbody tr th:only-of-type {\n",
       "        vertical-align: middle;\n",
       "    }\n",
       "\n",
       "    .dataframe tbody tr th {\n",
       "        vertical-align: top;\n",
       "    }\n",
       "\n",
       "    .dataframe thead tr th {\n",
       "        text-align: left;\n",
       "    }\n",
       "\n",
       "    .dataframe thead tr:last-of-type th {\n",
       "        text-align: right;\n",
       "    }\n",
       "</style>\n",
       "<table border=\"1\" class=\"dataframe\">\n",
       "  <thead>\n",
       "    <tr>\n",
       "      <th></th>\n",
       "      <th colspan=\"5\" halign=\"left\">AGG</th>\n",
       "      <th colspan=\"5\" halign=\"left\">SPY</th>\n",
       "    </tr>\n",
       "    <tr>\n",
       "      <th></th>\n",
       "      <th>open</th>\n",
       "      <th>high</th>\n",
       "      <th>low</th>\n",
       "      <th>close</th>\n",
       "      <th>volume</th>\n",
       "      <th>open</th>\n",
       "      <th>high</th>\n",
       "      <th>low</th>\n",
       "      <th>close</th>\n",
       "      <th>volume</th>\n",
       "    </tr>\n",
       "    <tr>\n",
       "      <th>time</th>\n",
       "      <th></th>\n",
       "      <th></th>\n",
       "      <th></th>\n",
       "      <th></th>\n",
       "      <th></th>\n",
       "      <th></th>\n",
       "      <th></th>\n",
       "      <th></th>\n",
       "      <th></th>\n",
       "      <th></th>\n",
       "    </tr>\n",
       "  </thead>\n",
       "  <tbody>\n",
       "    <tr>\n",
       "      <th>2021-12-10 00:00:00-05:00</th>\n",
       "      <td>114.37</td>\n",
       "      <td>114.51</td>\n",
       "      <td>114.22</td>\n",
       "      <td>114.24</td>\n",
       "      <td>6263328</td>\n",
       "      <td>469.23</td>\n",
       "      <td>470.9</td>\n",
       "      <td>466.51</td>\n",
       "      <td>470.72</td>\n",
       "      <td>64958435</td>\n",
       "    </tr>\n",
       "  </tbody>\n",
       "</table>\n",
       "</div>"
      ],
      "text/plain": [
       "                              AGG                                      SPY  \\\n",
       "                             open    high     low   close   volume    open   \n",
       "time                                                                         \n",
       "2021-12-10 00:00:00-05:00  114.37  114.51  114.22  114.24  6263328  469.23   \n",
       "\n",
       "                                                            \n",
       "                            high     low   close    volume  \n",
       "time                                                        \n",
       "2021-12-10 00:00:00-05:00  470.9  466.51  470.72  64958435  "
      ]
     },
     "execution_count": 8,
     "metadata": {},
     "output_type": "execute_result"
    }
   ],
   "source": [
    "# Format current date as ISO format\n",
    "today = pd.Timestamp(\"2021-12-10\", tz=\"America/New_York\").isoformat()\n",
    "\n",
    "# Set the tickers\n",
    "tickers = [\"AGG\", \"SPY\"]\n",
    "\n",
    "# Set timeframe to '1D' for Alpaca API\n",
    "timeframe = \"1D\"\n",
    "\n",
    "# Get current closing prices for SPY and AGG\n",
    "# (use a limit=1000 parameter to call the most recent 1000 days of data)\n",
    "blue_chip = api.get_barset(\n",
    "    tickers,\n",
    "    timeframe,\n",
    "    start = today,\n",
    "    end = today,\n",
    "    limit = 1000,\n",
    ").df\n",
    "\n",
    "# Preview DataFrame\n",
    "blue_chip.head()"
   ]
  },
  {
   "cell_type": "code",
   "execution_count": 9,
   "metadata": {},
   "outputs": [
    {
     "name": "stdout",
     "output_type": "stream",
     "text": [
      "Current AGG closing price: $114.24\n",
      "Current SPY closing price: $470.72\n"
     ]
    }
   ],
   "source": [
    "# Pick AGG and SPY close prices\n",
    "agg_close_price = blue_chip[\"AGG\"][\"close\"].item()\n",
    "spy_close_price = blue_chip[\"SPY\"][\"close\"].item()\n",
    "# Print AGG and SPY close prices\n",
    "print(f\"Current AGG closing price: ${agg_close_price}\")\n",
    "print(f\"Current SPY closing price: ${spy_close_price}\")"
   ]
  },
  {
   "cell_type": "code",
   "execution_count": 10,
   "metadata": {},
   "outputs": [
    {
     "name": "stdout",
     "output_type": "stream",
     "text": [
      "The current value of your 50 SPY shares is $23536.00\n",
      "The current value of your 200 AGG shares is $22848.00\n"
     ]
    }
   ],
   "source": [
    "# Compute the current value of shares\n",
    "my_agg_value = my_agg*agg_close_price\n",
    "my_spy_value = my_spy*spy_close_price\n",
    "# Print current value of shares\n",
    "print(f\"The current value of your {my_spy} SPY shares is ${my_spy_value:0.2f}\")\n",
    "print(f\"The current value of your {my_agg} AGG shares is ${my_agg_value:0.2f}\")"
   ]
  },
  {
   "cell_type": "markdown",
   "metadata": {},
   "source": [
    "### Savings Health Analysis"
   ]
  },
  {
   "cell_type": "code",
   "execution_count": 11,
   "metadata": {},
   "outputs": [
    {
     "data": {
      "text/html": [
       "<div>\n",
       "<style scoped>\n",
       "    .dataframe tbody tr th:only-of-type {\n",
       "        vertical-align: middle;\n",
       "    }\n",
       "\n",
       "    .dataframe tbody tr th {\n",
       "        vertical-align: top;\n",
       "    }\n",
       "\n",
       "    .dataframe thead th {\n",
       "        text-align: right;\n",
       "    }\n",
       "</style>\n",
       "<table border=\"1\" class=\"dataframe\">\n",
       "  <thead>\n",
       "    <tr style=\"text-align: right;\">\n",
       "      <th></th>\n",
       "      <th>amount</th>\n",
       "    </tr>\n",
       "  </thead>\n",
       "  <tbody>\n",
       "    <tr>\n",
       "      <th>crypto</th>\n",
       "      <td>102793.81541</td>\n",
       "    </tr>\n",
       "    <tr>\n",
       "      <th>shares</th>\n",
       "      <td>46384.00000</td>\n",
       "    </tr>\n",
       "  </tbody>\n",
       "</table>\n",
       "</div>"
      ],
      "text/plain": [
       "              amount\n",
       "crypto  102793.81541\n",
       "shares   46384.00000"
      ]
     },
     "metadata": {},
     "output_type": "display_data"
    }
   ],
   "source": [
    "# Set monthly household income\n",
    "monthly_income = 1200\n",
    "\n",
    "# Consolidate financial assets data\n",
    "\n",
    "\n",
    "# Create savings DataFrame\n",
    "df_savings = pd.DataFrame([\n",
    "    my_btc_value + my_eth_value,\n",
    "    my_agg_value + my_spy_value\n",
    "],\n",
    "    columns = [\"amount\"],\n",
    "    index = [\"crypto\", \"shares\"]\n",
    ")\n",
    "\n",
    "# Display savings DataFrame\n",
    "display(df_savings)"
   ]
  },
  {
   "cell_type": "code",
   "execution_count": 12,
   "metadata": {},
   "outputs": [
    {
     "data": {
      "text/plain": [
       "<AxesSubplot:title={'center':'Composition of Personal Savings'}, ylabel='amount'>"
      ]
     },
     "execution_count": 12,
     "metadata": {},
     "output_type": "execute_result"
    },
    {
     "data": {
      "image/png": "[encoded data removed]",
      "text/plain": [
       "<Figure size 432x288 with 1 Axes>"
      ]
     },
     "metadata": {},
     "output_type": "display_data"
    }
   ],
   "source": [
    "# Plot savings pie chart\n",
    "df_savings.plot.pie(y=\"amount\", title=\"Composition of Personal Savings\")"
   ]
  },
  {
   "cell_type": "code",
   "execution_count": 13,
   "metadata": {},
   "outputs": [
    {
     "name": "stdout",
     "output_type": "stream",
     "text": [
      "Nice job! You are safe and sound, sleep tight...zZz\n"
     ]
    }
   ],
   "source": [
    "# Set ideal emergency fund\n",
    "emergency_fund = monthly_income * 3\n",
    "\n",
    "# Calculate total amount of savings\n",
    "total_amount = df_savings[\"amount\"].sum()\n",
    "total_amount\n",
    "\n",
    "# Validate saving health\n",
    "if total_amount > emergency_fund:\n",
    "    print(f\"Nice job! You are safe and sound, sleep tight...zZz\")\n",
    "elif total_amount == emergency_fund:\n",
    "    print(f\"Better not spend a dollar more! You barely saved as much as you emergency fund\")\n",
    "else:\n",
    "    print(f\"Yikes! you are broke broke... get a job!\")"
   ]
  },
  {
   "cell_type": "markdown",
   "metadata": {},
   "source": [
    "## Part 2 - Retirement Planning\n",
    "\n",
    "### Monte Carlo Simulation"
   ]
  },
  {
   "cell_type": "code",
   "execution_count": 14,
   "metadata": {},
   "outputs": [],
   "source": [
    "# Set start and end dates of five years back from today.\n",
    "# Sample results may vary from the solution based on the time frame chosen\n",
    "start_date = pd.Timestamp('2016-05-01', tz='America/New_York').isoformat()\n",
    "end_date = pd.Timestamp('2021-05-01', tz='America/New_York').isoformat()"
   ]
  },
  {
   "cell_type": "code",
   "execution_count": 15,
   "metadata": {},
   "outputs": [
    {
     "data": {
      "text/html": [
       "<div>\n",
       "<style scoped>\n",
       "    .dataframe tbody tr th:only-of-type {\n",
       "        vertical-align: middle;\n",
       "    }\n",
       "\n",
       "    .dataframe tbody tr th {\n",
       "        vertical-align: top;\n",
       "    }\n",
       "\n",
       "    .dataframe thead tr th {\n",
       "        text-align: left;\n",
       "    }\n",
       "</style>\n",
       "<table border=\"1\" class=\"dataframe\">\n",
       "  <thead>\n",
       "    <tr>\n",
       "      <th></th>\n",
       "      <th colspan=\"5\" halign=\"left\">AGG</th>\n",
       "      <th colspan=\"5\" halign=\"left\">SPY</th>\n",
       "    </tr>\n",
       "    <tr>\n",
       "      <th></th>\n",
       "      <th>open</th>\n",
       "      <th>high</th>\n",
       "      <th>low</th>\n",
       "      <th>close</th>\n",
       "      <th>volume</th>\n",
       "      <th>open</th>\n",
       "      <th>high</th>\n",
       "      <th>low</th>\n",
       "      <th>close</th>\n",
       "      <th>volume</th>\n",
       "    </tr>\n",
       "  </thead>\n",
       "  <tbody>\n",
       "    <tr>\n",
       "      <th>2020-12-07</th>\n",
       "      <td>117.76</td>\n",
       "      <td>117.8262</td>\n",
       "      <td>117.6900</td>\n",
       "      <td>117.75</td>\n",
       "      <td>4689469</td>\n",
       "      <td>369.02</td>\n",
       "      <td>369.6200</td>\n",
       "      <td>367.72</td>\n",
       "      <td>369.1200</td>\n",
       "      <td>40456544</td>\n",
       "    </tr>\n",
       "    <tr>\n",
       "      <th>2020-12-08</th>\n",
       "      <td>117.88</td>\n",
       "      <td>117.9597</td>\n",
       "      <td>117.7500</td>\n",
       "      <td>117.77</td>\n",
       "      <td>3587353</td>\n",
       "      <td>367.72</td>\n",
       "      <td>370.7800</td>\n",
       "      <td>367.67</td>\n",
       "      <td>370.1599</td>\n",
       "      <td>32702217</td>\n",
       "    </tr>\n",
       "    <tr>\n",
       "      <th>2020-12-09</th>\n",
       "      <td>117.73</td>\n",
       "      <td>117.7800</td>\n",
       "      <td>117.5172</td>\n",
       "      <td>117.62</td>\n",
       "      <td>4720359</td>\n",
       "      <td>370.88</td>\n",
       "      <td>371.0500</td>\n",
       "      <td>365.95</td>\n",
       "      <td>366.8900</td>\n",
       "      <td>60700254</td>\n",
       "    </tr>\n",
       "    <tr>\n",
       "      <th>2020-12-10</th>\n",
       "      <td>117.74</td>\n",
       "      <td>117.9300</td>\n",
       "      <td>117.6900</td>\n",
       "      <td>117.88</td>\n",
       "      <td>4694024</td>\n",
       "      <td>365.37</td>\n",
       "      <td>367.8600</td>\n",
       "      <td>364.43</td>\n",
       "      <td>366.7200</td>\n",
       "      <td>47851654</td>\n",
       "    </tr>\n",
       "    <tr>\n",
       "      <th>2020-12-11</th>\n",
       "      <td>118.01</td>\n",
       "      <td>118.0900</td>\n",
       "      <td>117.9500</td>\n",
       "      <td>118.03</td>\n",
       "      <td>5537449</td>\n",
       "      <td>364.90</td>\n",
       "      <td>366.7402</td>\n",
       "      <td>363.26</td>\n",
       "      <td>366.2800</td>\n",
       "      <td>47917103</td>\n",
       "    </tr>\n",
       "  </tbody>\n",
       "</table>\n",
       "</div>"
      ],
      "text/plain": [
       "               AGG                                          SPY            \\\n",
       "              open      high       low   close   volume    open      high   \n",
       "2020-12-07  117.76  117.8262  117.6900  117.75  4689469  369.02  369.6200   \n",
       "2020-12-08  117.88  117.9597  117.7500  117.77  3587353  367.72  370.7800   \n",
       "2020-12-09  117.73  117.7800  117.5172  117.62  4720359  370.88  371.0500   \n",
       "2020-12-10  117.74  117.9300  117.6900  117.88  4694024  365.37  367.8600   \n",
       "2020-12-11  118.01  118.0900  117.9500  118.03  5537449  364.90  366.7402   \n",
       "\n",
       "                                        \n",
       "               low     close    volume  \n",
       "2020-12-07  367.72  369.1200  40456544  \n",
       "2020-12-08  367.67  370.1599  32702217  \n",
       "2020-12-09  365.95  366.8900  60700254  \n",
       "2020-12-10  364.43  366.7200  47851654  \n",
       "2020-12-11  363.26  366.2800  47917103  "
      ]
     },
     "execution_count": 15,
     "metadata": {},
     "output_type": "execute_result"
    }
   ],
   "source": [
    "# Get 5 years' worth of historical data for SPY and AGG\n",
    "# (use a limit=1000 parameter to call the most recent 1000 days of data)\n",
    "tickers = [\"AGG\",\"SPY\"]\n",
    "df_stock_data = api.get_barset(tickers, timeframe, start=start_date, end=end_date).df\n",
    "df_stock_data.index = df_stock_data.index.date\n",
    "\n",
    "# Display sample data\n",
    "df_stock_data.head()"
   ]
  },
  {
   "cell_type": "code",
   "execution_count": 16,
   "metadata": {},
   "outputs": [],
   "source": [
    "# Configuring a Monte Carlo simulation to forecast 30 years cumulative returns\n",
    "MC_even_dist = MCSimulation(portfolio_data = df_stock_data, weights = [.40,.60], num_simulation = 500, num_trading_days = 252*30)"
   ]
  },
  {
   "cell_type": "code",
   "execution_count": 17,
   "metadata": {},
   "outputs": [
    {
     "data": {
      "text/html": [
       "<div>\n",
       "<style scoped>\n",
       "    .dataframe tbody tr th:only-of-type {\n",
       "        vertical-align: middle;\n",
       "    }\n",
       "\n",
       "    .dataframe tbody tr th {\n",
       "        vertical-align: top;\n",
       "    }\n",
       "\n",
       "    .dataframe thead tr th {\n",
       "        text-align: left;\n",
       "    }\n",
       "</style>\n",
       "<table border=\"1\" class=\"dataframe\">\n",
       "  <thead>\n",
       "    <tr>\n",
       "      <th></th>\n",
       "      <th colspan=\"6\" halign=\"left\">AGG</th>\n",
       "      <th colspan=\"6\" halign=\"left\">SPY</th>\n",
       "    </tr>\n",
       "    <tr>\n",
       "      <th></th>\n",
       "      <th>open</th>\n",
       "      <th>high</th>\n",
       "      <th>low</th>\n",
       "      <th>close</th>\n",
       "      <th>volume</th>\n",
       "      <th>daily_return</th>\n",
       "      <th>open</th>\n",
       "      <th>high</th>\n",
       "      <th>low</th>\n",
       "      <th>close</th>\n",
       "      <th>volume</th>\n",
       "      <th>daily_return</th>\n",
       "    </tr>\n",
       "  </thead>\n",
       "  <tbody>\n",
       "    <tr>\n",
       "      <th>2020-12-07</th>\n",
       "      <td>117.76</td>\n",
       "      <td>117.8262</td>\n",
       "      <td>117.6900</td>\n",
       "      <td>117.75</td>\n",
       "      <td>4689469</td>\n",
       "      <td>NaN</td>\n",
       "      <td>369.02</td>\n",
       "      <td>369.6200</td>\n",
       "      <td>367.72</td>\n",
       "      <td>369.1200</td>\n",
       "      <td>40456544</td>\n",
       "      <td>NaN</td>\n",
       "    </tr>\n",
       "    <tr>\n",
       "      <th>2020-12-08</th>\n",
       "      <td>117.88</td>\n",
       "      <td>117.9597</td>\n",
       "      <td>117.7500</td>\n",
       "      <td>117.77</td>\n",
       "      <td>3587353</td>\n",
       "      <td>0.000170</td>\n",
       "      <td>367.72</td>\n",
       "      <td>370.7800</td>\n",
       "      <td>367.67</td>\n",
       "      <td>370.1599</td>\n",
       "      <td>32702217</td>\n",
       "      <td>0.002817</td>\n",
       "    </tr>\n",
       "    <tr>\n",
       "      <th>2020-12-09</th>\n",
       "      <td>117.73</td>\n",
       "      <td>117.7800</td>\n",
       "      <td>117.5172</td>\n",
       "      <td>117.62</td>\n",
       "      <td>4720359</td>\n",
       "      <td>-0.001274</td>\n",
       "      <td>370.88</td>\n",
       "      <td>371.0500</td>\n",
       "      <td>365.95</td>\n",
       "      <td>366.8900</td>\n",
       "      <td>60700254</td>\n",
       "      <td>-0.008834</td>\n",
       "    </tr>\n",
       "    <tr>\n",
       "      <th>2020-12-10</th>\n",
       "      <td>117.74</td>\n",
       "      <td>117.9300</td>\n",
       "      <td>117.6900</td>\n",
       "      <td>117.88</td>\n",
       "      <td>4694024</td>\n",
       "      <td>0.002211</td>\n",
       "      <td>365.37</td>\n",
       "      <td>367.8600</td>\n",
       "      <td>364.43</td>\n",
       "      <td>366.7200</td>\n",
       "      <td>47851654</td>\n",
       "      <td>-0.000463</td>\n",
       "    </tr>\n",
       "    <tr>\n",
       "      <th>2020-12-11</th>\n",
       "      <td>118.01</td>\n",
       "      <td>118.0900</td>\n",
       "      <td>117.9500</td>\n",
       "      <td>118.03</td>\n",
       "      <td>5537449</td>\n",
       "      <td>0.001272</td>\n",
       "      <td>364.90</td>\n",
       "      <td>366.7402</td>\n",
       "      <td>363.26</td>\n",
       "      <td>366.2800</td>\n",
       "      <td>47917103</td>\n",
       "      <td>-0.001200</td>\n",
       "    </tr>\n",
       "  </tbody>\n",
       "</table>\n",
       "</div>"
      ],
      "text/plain": [
       "               AGG                                                       SPY  \\\n",
       "              open      high       low   close   volume daily_return    open   \n",
       "2020-12-07  117.76  117.8262  117.6900  117.75  4689469          NaN  369.02   \n",
       "2020-12-08  117.88  117.9597  117.7500  117.77  3587353     0.000170  367.72   \n",
       "2020-12-09  117.73  117.7800  117.5172  117.62  4720359    -0.001274  370.88   \n",
       "2020-12-10  117.74  117.9300  117.6900  117.88  4694024     0.002211  365.37   \n",
       "2020-12-11  118.01  118.0900  117.9500  118.03  5537449     0.001272  364.90   \n",
       "\n",
       "                                                               \n",
       "                high     low     close    volume daily_return  \n",
       "2020-12-07  369.6200  367.72  369.1200  40456544          NaN  \n",
       "2020-12-08  370.7800  367.67  370.1599  32702217     0.002817  \n",
       "2020-12-09  371.0500  365.95  366.8900  60700254    -0.008834  \n",
       "2020-12-10  367.8600  364.43  366.7200  47851654    -0.000463  \n",
       "2020-12-11  366.7402  363.26  366.2800  47917103    -0.001200  "
      ]
     },
     "execution_count": 17,
     "metadata": {},
     "output_type": "execute_result"
    }
   ],
   "source": [
    "# Printing the simulation input data\n",
    "MC_even_dist.portfolio_data.head()"
   ]
  },
  {
   "cell_type": "code",
   "execution_count": 18,
   "metadata": {},
   "outputs": [
    {
     "name": "stdout",
     "output_type": "stream",
     "text": [
      "Running Monte Carlo simulation number 0.\n",
      "Running Monte Carlo simulation number 10.\n",
      "Running Monte Carlo simulation number 20.\n",
      "Running Monte Carlo simulation number 30.\n",
      "Running Monte Carlo simulation number 40.\n",
      "Running Monte Carlo simulation number 50.\n",
      "Running Monte Carlo simulation number 60.\n",
      "Running Monte Carlo simulation number 70.\n",
      "Running Monte Carlo simulation number 80.\n",
      "Running Monte Carlo simulation number 90.\n",
      "Running Monte Carlo simulation number 100.\n"
     ]
    },
    {
     "name": "stderr",
     "output_type": "stream",
     "text": [
      "C:\\Users\\Straw Hat\\UTOR-VIRT-FIN-PT-11-2021-U-C\\05-APIs\\Unit 5 Homework\\Starter_Code\\MCForecastTools.py:117: PerformanceWarning: DataFrame is highly fragmented.  This is usually the result of calling `frame.insert` many times, which has poor performance.  Consider joining all columns at once using pd.concat(axis=1) instead.  To get a de-fragmented frame, use `newframe = frame.copy()`\n",
      "  portfolio_cumulative_returns[n] = (1 + sim_df.fillna(0)).cumprod()\n"
     ]
    },
    {
     "name": "stdout",
     "output_type": "stream",
     "text": [
      "Running Monte Carlo simulation number 110.\n",
      "Running Monte Carlo simulation number 120.\n",
      "Running Monte Carlo simulation number 130.\n",
      "Running Monte Carlo simulation number 140.\n",
      "Running Monte Carlo simulation number 150.\n",
      "Running Monte Carlo simulation number 160.\n",
      "Running Monte Carlo simulation number 170.\n",
      "Running Monte Carlo simulation number 180.\n",
      "Running Monte Carlo simulation number 190.\n",
      "Running Monte Carlo simulation number 200.\n",
      "Running Monte Carlo simulation number 210.\n",
      "Running Monte Carlo simulation number 220.\n",
      "Running Monte Carlo simulation number 230.\n",
      "Running Monte Carlo simulation number 240.\n",
      "Running Monte Carlo simulation number 250.\n",
      "Running Monte Carlo simulation number 260.\n",
      "Running Monte Carlo simulation number 270.\n",
      "Running Monte Carlo simulation number 280.\n",
      "Running Monte Carlo simulation number 290.\n",
      "Running Monte Carlo simulation number 300.\n",
      "Running Monte Carlo simulation number 310.\n",
      "Running Monte Carlo simulation number 320.\n",
      "Running Monte Carlo simulation number 330.\n",
      "Running Monte Carlo simulation number 340.\n",
      "Running Monte Carlo simulation number 350.\n",
      "Running Monte Carlo simulation number 360.\n",
      "Running Monte Carlo simulation number 370.\n",
      "Running Monte Carlo simulation number 380.\n",
      "Running Monte Carlo simulation number 390.\n",
      "Running Monte Carlo simulation number 400.\n",
      "Running Monte Carlo simulation number 410.\n",
      "Running Monte Carlo simulation number 420.\n",
      "Running Monte Carlo simulation number 430.\n",
      "Running Monte Carlo simulation number 440.\n",
      "Running Monte Carlo simulation number 450.\n",
      "Running Monte Carlo simulation number 460.\n",
      "Running Monte Carlo simulation number 470.\n",
      "Running Monte Carlo simulation number 480.\n",
      "Running Monte Carlo simulation number 490.\n"
     ]
    },
    {
     "data": {
      "text/html": [
       "<div>\n",
       "<style scoped>\n",
       "    .dataframe tbody tr th:only-of-type {\n",
       "        vertical-align: middle;\n",
       "    }\n",
       "\n",
       "    .dataframe tbody tr th {\n",
       "        vertical-align: top;\n",
       "    }\n",
       "\n",
       "    .dataframe thead th {\n",
       "        text-align: right;\n",
       "    }\n",
       "</style>\n",
       "<table border=\"1\" class=\"dataframe\">\n",
       "  <thead>\n",
       "    <tr style=\"text-align: right;\">\n",
       "      <th></th>\n",
       "      <th>0</th>\n",
       "      <th>1</th>\n",
       "      <th>2</th>\n",
       "      <th>3</th>\n",
       "      <th>4</th>\n",
       "      <th>5</th>\n",
       "      <th>6</th>\n",
       "      <th>7</th>\n",
       "      <th>8</th>\n",
       "      <th>9</th>\n",
       "      <th>...</th>\n",
       "      <th>490</th>\n",
       "      <th>491</th>\n",
       "      <th>492</th>\n",
       "      <th>493</th>\n",
       "      <th>494</th>\n",
       "      <th>495</th>\n",
       "      <th>496</th>\n",
       "      <th>497</th>\n",
       "      <th>498</th>\n",
       "      <th>499</th>\n",
       "    </tr>\n",
       "  </thead>\n",
       "  <tbody>\n",
       "    <tr>\n",
       "      <th>0</th>\n",
       "      <td>1.000000</td>\n",
       "      <td>1.000000</td>\n",
       "      <td>1.000000</td>\n",
       "      <td>1.000000</td>\n",
       "      <td>1.000000</td>\n",
       "      <td>1.000000</td>\n",
       "      <td>1.000000</td>\n",
       "      <td>1.000000</td>\n",
       "      <td>1.000000</td>\n",
       "      <td>1.000000</td>\n",
       "      <td>...</td>\n",
       "      <td>1.000000</td>\n",
       "      <td>1.000000</td>\n",
       "      <td>1.000000</td>\n",
       "      <td>1.000000</td>\n",
       "      <td>1.000000</td>\n",
       "      <td>1.000000</td>\n",
       "      <td>1.000000</td>\n",
       "      <td>1.000000</td>\n",
       "      <td>1.000000</td>\n",
       "      <td>1.000000</td>\n",
       "    </tr>\n",
       "    <tr>\n",
       "      <th>1</th>\n",
       "      <td>1.002037</td>\n",
       "      <td>1.007051</td>\n",
       "      <td>0.994463</td>\n",
       "      <td>1.000722</td>\n",
       "      <td>1.000137</td>\n",
       "      <td>0.996545</td>\n",
       "      <td>1.005297</td>\n",
       "      <td>1.003104</td>\n",
       "      <td>0.996341</td>\n",
       "      <td>1.003956</td>\n",
       "      <td>...</td>\n",
       "      <td>1.005141</td>\n",
       "      <td>0.998192</td>\n",
       "      <td>0.998040</td>\n",
       "      <td>1.004057</td>\n",
       "      <td>0.996545</td>\n",
       "      <td>1.000971</td>\n",
       "      <td>1.000356</td>\n",
       "      <td>1.009957</td>\n",
       "      <td>1.002671</td>\n",
       "      <td>1.000049</td>\n",
       "    </tr>\n",
       "    <tr>\n",
       "      <th>2</th>\n",
       "      <td>1.000559</td>\n",
       "      <td>1.011807</td>\n",
       "      <td>0.987563</td>\n",
       "      <td>1.004218</td>\n",
       "      <td>1.003106</td>\n",
       "      <td>0.996808</td>\n",
       "      <td>1.003753</td>\n",
       "      <td>0.998228</td>\n",
       "      <td>0.992068</td>\n",
       "      <td>1.005695</td>\n",
       "      <td>...</td>\n",
       "      <td>0.994829</td>\n",
       "      <td>0.992916</td>\n",
       "      <td>0.997652</td>\n",
       "      <td>1.007111</td>\n",
       "      <td>0.996656</td>\n",
       "      <td>1.005143</td>\n",
       "      <td>1.002464</td>\n",
       "      <td>1.009297</td>\n",
       "      <td>0.996415</td>\n",
       "      <td>1.000887</td>\n",
       "    </tr>\n",
       "    <tr>\n",
       "      <th>3</th>\n",
       "      <td>0.996700</td>\n",
       "      <td>1.022021</td>\n",
       "      <td>0.990846</td>\n",
       "      <td>1.004007</td>\n",
       "      <td>1.006635</td>\n",
       "      <td>0.996954</td>\n",
       "      <td>0.999949</td>\n",
       "      <td>1.001599</td>\n",
       "      <td>0.991811</td>\n",
       "      <td>1.006052</td>\n",
       "      <td>...</td>\n",
       "      <td>0.997887</td>\n",
       "      <td>0.993773</td>\n",
       "      <td>1.002386</td>\n",
       "      <td>1.006258</td>\n",
       "      <td>0.985451</td>\n",
       "      <td>1.003522</td>\n",
       "      <td>1.001705</td>\n",
       "      <td>1.007863</td>\n",
       "      <td>0.989655</td>\n",
       "      <td>0.993895</td>\n",
       "    </tr>\n",
       "    <tr>\n",
       "      <th>4</th>\n",
       "      <td>0.998495</td>\n",
       "      <td>1.015269</td>\n",
       "      <td>0.990788</td>\n",
       "      <td>0.995894</td>\n",
       "      <td>1.006579</td>\n",
       "      <td>1.004388</td>\n",
       "      <td>0.995718</td>\n",
       "      <td>0.999994</td>\n",
       "      <td>0.994846</td>\n",
       "      <td>1.002481</td>\n",
       "      <td>...</td>\n",
       "      <td>1.000690</td>\n",
       "      <td>0.992645</td>\n",
       "      <td>0.998110</td>\n",
       "      <td>1.009747</td>\n",
       "      <td>0.985859</td>\n",
       "      <td>1.009617</td>\n",
       "      <td>1.001218</td>\n",
       "      <td>1.014233</td>\n",
       "      <td>0.981175</td>\n",
       "      <td>1.003795</td>\n",
       "    </tr>\n",
       "    <tr>\n",
       "      <th>...</th>\n",
       "      <td>...</td>\n",
       "      <td>...</td>\n",
       "      <td>...</td>\n",
       "      <td>...</td>\n",
       "      <td>...</td>\n",
       "      <td>...</td>\n",
       "      <td>...</td>\n",
       "      <td>...</td>\n",
       "      <td>...</td>\n",
       "      <td>...</td>\n",
       "      <td>...</td>\n",
       "      <td>...</td>\n",
       "      <td>...</td>\n",
       "      <td>...</td>\n",
       "      <td>...</td>\n",
       "      <td>...</td>\n",
       "      <td>...</td>\n",
       "      <td>...</td>\n",
       "      <td>...</td>\n",
       "      <td>...</td>\n",
       "      <td>...</td>\n",
       "    </tr>\n",
       "    <tr>\n",
       "      <th>7556</th>\n",
       "      <td>219.636984</td>\n",
       "      <td>61.280096</td>\n",
       "      <td>56.304841</td>\n",
       "      <td>263.006810</td>\n",
       "      <td>171.634926</td>\n",
       "      <td>274.312673</td>\n",
       "      <td>150.662873</td>\n",
       "      <td>69.497535</td>\n",
       "      <td>275.123442</td>\n",
       "      <td>59.647555</td>\n",
       "      <td>...</td>\n",
       "      <td>201.811484</td>\n",
       "      <td>93.575303</td>\n",
       "      <td>55.747326</td>\n",
       "      <td>92.398026</td>\n",
       "      <td>83.966384</td>\n",
       "      <td>82.165937</td>\n",
       "      <td>104.773054</td>\n",
       "      <td>93.702855</td>\n",
       "      <td>127.396121</td>\n",
       "      <td>339.419460</td>\n",
       "    </tr>\n",
       "    <tr>\n",
       "      <th>7557</th>\n",
       "      <td>218.352267</td>\n",
       "      <td>61.164010</td>\n",
       "      <td>56.302487</td>\n",
       "      <td>263.799523</td>\n",
       "      <td>172.422063</td>\n",
       "      <td>274.423099</td>\n",
       "      <td>150.825192</td>\n",
       "      <td>69.816448</td>\n",
       "      <td>276.943933</td>\n",
       "      <td>60.227383</td>\n",
       "      <td>...</td>\n",
       "      <td>202.272069</td>\n",
       "      <td>93.738338</td>\n",
       "      <td>55.856666</td>\n",
       "      <td>92.282709</td>\n",
       "      <td>83.213202</td>\n",
       "      <td>81.424689</td>\n",
       "      <td>105.318536</td>\n",
       "      <td>94.094809</td>\n",
       "      <td>127.578919</td>\n",
       "      <td>338.834928</td>\n",
       "    </tr>\n",
       "    <tr>\n",
       "      <th>7558</th>\n",
       "      <td>218.310164</td>\n",
       "      <td>61.592489</td>\n",
       "      <td>56.135300</td>\n",
       "      <td>264.181468</td>\n",
       "      <td>173.522285</td>\n",
       "      <td>276.045376</td>\n",
       "      <td>150.765029</td>\n",
       "      <td>69.578625</td>\n",
       "      <td>275.482169</td>\n",
       "      <td>59.737553</td>\n",
       "      <td>...</td>\n",
       "      <td>201.775865</td>\n",
       "      <td>94.901938</td>\n",
       "      <td>55.821417</td>\n",
       "      <td>91.634545</td>\n",
       "      <td>83.625029</td>\n",
       "      <td>81.523247</td>\n",
       "      <td>105.999206</td>\n",
       "      <td>93.795308</td>\n",
       "      <td>127.332907</td>\n",
       "      <td>336.200069</td>\n",
       "    </tr>\n",
       "    <tr>\n",
       "      <th>7559</th>\n",
       "      <td>218.673764</td>\n",
       "      <td>60.996106</td>\n",
       "      <td>56.188791</td>\n",
       "      <td>265.165527</td>\n",
       "      <td>173.303400</td>\n",
       "      <td>276.107203</td>\n",
       "      <td>149.912188</td>\n",
       "      <td>70.027821</td>\n",
       "      <td>274.469258</td>\n",
       "      <td>59.815975</td>\n",
       "      <td>...</td>\n",
       "      <td>202.411810</td>\n",
       "      <td>95.282697</td>\n",
       "      <td>56.191375</td>\n",
       "      <td>92.207128</td>\n",
       "      <td>83.534798</td>\n",
       "      <td>81.493624</td>\n",
       "      <td>106.647406</td>\n",
       "      <td>92.024932</td>\n",
       "      <td>127.780757</td>\n",
       "      <td>337.855062</td>\n",
       "    </tr>\n",
       "    <tr>\n",
       "      <th>7560</th>\n",
       "      <td>218.681051</td>\n",
       "      <td>60.346481</td>\n",
       "      <td>55.989946</td>\n",
       "      <td>265.640741</td>\n",
       "      <td>173.861840</td>\n",
       "      <td>275.600783</td>\n",
       "      <td>151.138682</td>\n",
       "      <td>69.915259</td>\n",
       "      <td>275.309275</td>\n",
       "      <td>59.665780</td>\n",
       "      <td>...</td>\n",
       "      <td>203.343950</td>\n",
       "      <td>94.722939</td>\n",
       "      <td>56.413617</td>\n",
       "      <td>91.268875</td>\n",
       "      <td>84.154769</td>\n",
       "      <td>81.188545</td>\n",
       "      <td>106.270364</td>\n",
       "      <td>91.791801</td>\n",
       "      <td>128.507679</td>\n",
       "      <td>338.430340</td>\n",
       "    </tr>\n",
       "  </tbody>\n",
       "</table>\n",
       "<p>7561 rows × 500 columns</p>\n",
       "</div>"
      ],
      "text/plain": [
       "             0          1          2           3           4           5    \\\n",
       "0       1.000000   1.000000   1.000000    1.000000    1.000000    1.000000   \n",
       "1       1.002037   1.007051   0.994463    1.000722    1.000137    0.996545   \n",
       "2       1.000559   1.011807   0.987563    1.004218    1.003106    0.996808   \n",
       "3       0.996700   1.022021   0.990846    1.004007    1.006635    0.996954   \n",
       "4       0.998495   1.015269   0.990788    0.995894    1.006579    1.004388   \n",
       "...          ...        ...        ...         ...         ...         ...   \n",
       "7556  219.636984  61.280096  56.304841  263.006810  171.634926  274.312673   \n",
       "7557  218.352267  61.164010  56.302487  263.799523  172.422063  274.423099   \n",
       "7558  218.310164  61.592489  56.135300  264.181468  173.522285  276.045376   \n",
       "7559  218.673764  60.996106  56.188791  265.165527  173.303400  276.107203   \n",
       "7560  218.681051  60.346481  55.989946  265.640741  173.861840  275.600783   \n",
       "\n",
       "             6          7           8          9    ...         490  \\\n",
       "0       1.000000   1.000000    1.000000   1.000000  ...    1.000000   \n",
       "1       1.005297   1.003104    0.996341   1.003956  ...    1.005141   \n",
       "2       1.003753   0.998228    0.992068   1.005695  ...    0.994829   \n",
       "3       0.999949   1.001599    0.991811   1.006052  ...    0.997887   \n",
       "4       0.995718   0.999994    0.994846   1.002481  ...    1.000690   \n",
       "...          ...        ...         ...        ...  ...         ...   \n",
       "7556  150.662873  69.497535  275.123442  59.647555  ...  201.811484   \n",
       "7557  150.825192  69.816448  276.943933  60.227383  ...  202.272069   \n",
       "7558  150.765029  69.578625  275.482169  59.737553  ...  201.775865   \n",
       "7559  149.912188  70.027821  274.469258  59.815975  ...  202.411810   \n",
       "7560  151.138682  69.915259  275.309275  59.665780  ...  203.343950   \n",
       "\n",
       "            491        492        493        494        495         496  \\\n",
       "0      1.000000   1.000000   1.000000   1.000000   1.000000    1.000000   \n",
       "1      0.998192   0.998040   1.004057   0.996545   1.000971    1.000356   \n",
       "2      0.992916   0.997652   1.007111   0.996656   1.005143    1.002464   \n",
       "3      0.993773   1.002386   1.006258   0.985451   1.003522    1.001705   \n",
       "4      0.992645   0.998110   1.009747   0.985859   1.009617    1.001218   \n",
       "...         ...        ...        ...        ...        ...         ...   \n",
       "7556  93.575303  55.747326  92.398026  83.966384  82.165937  104.773054   \n",
       "7557  93.738338  55.856666  92.282709  83.213202  81.424689  105.318536   \n",
       "7558  94.901938  55.821417  91.634545  83.625029  81.523247  105.999206   \n",
       "7559  95.282697  56.191375  92.207128  83.534798  81.493624  106.647406   \n",
       "7560  94.722939  56.413617  91.268875  84.154769  81.188545  106.270364   \n",
       "\n",
       "            497         498         499  \n",
       "0      1.000000    1.000000    1.000000  \n",
       "1      1.009957    1.002671    1.000049  \n",
       "2      1.009297    0.996415    1.000887  \n",
       "3      1.007863    0.989655    0.993895  \n",
       "4      1.014233    0.981175    1.003795  \n",
       "...         ...         ...         ...  \n",
       "7556  93.702855  127.396121  339.419460  \n",
       "7557  94.094809  127.578919  338.834928  \n",
       "7558  93.795308  127.332907  336.200069  \n",
       "7559  92.024932  127.780757  337.855062  \n",
       "7560  91.791801  128.507679  338.430340  \n",
       "\n",
       "[7561 rows x 500 columns]"
      ]
     },
     "execution_count": 18,
     "metadata": {},
     "output_type": "execute_result"
    }
   ],
   "source": [
    "# Running a Monte Carlo simulation to forecast 30 years cumulative returns\n",
    "MC_even_dist.calc_cumulative_return()"
   ]
  },
  {
   "cell_type": "code",
   "execution_count": 19,
   "metadata": {},
   "outputs": [
    {
     "data": {
      "image/png": "[encoded data removed]",
      "text/plain": [
       "<Figure size 432x288 with 1 Axes>"
      ]
     },
     "metadata": {
      "needs_background": "light"
     },
     "output_type": "display_data"
    }
   ],
   "source": [
    "# Plot simulation outcomes\n",
    "line_plot = MC_even_dist.plot_simulation()"
   ]
  },
  {
   "cell_type": "code",
   "execution_count": 20,
   "metadata": {},
   "outputs": [
    {
     "data": {
      "image/png": "[encoded data removed]",
      "text/plain": [
       "<Figure size 432x288 with 1 Axes>"
      ]
     },
     "metadata": {
      "needs_background": "light"
     },
     "output_type": "display_data"
    }
   ],
   "source": [
    "# Plot probability distribution and confidence intervals\n",
    "dist_plot = MC_even_dist.plot_distribution()"
   ]
  },
  {
   "cell_type": "markdown",
   "metadata": {},
   "source": [
    "### Retirement Analysis"
   ]
  },
  {
   "cell_type": "code",
   "execution_count": 21,
   "metadata": {},
   "outputs": [
    {
     "name": "stdout",
     "output_type": "stream",
     "text": [
      "count            500.000000\n",
      "mean             140.838755\n",
      "std               77.582847\n",
      "min               31.055828\n",
      "25%               92.717494\n",
      "50%              125.579079\n",
      "75%              172.611113\n",
      "max             1011.476107\n",
      "95% CI Lower      54.073525\n",
      "95% CI Upper     313.140437\n",
      "Name: 7560, dtype: float64\n"
     ]
    }
   ],
   "source": [
    "# Fetch summary statistics from the Monte Carlo simulation results\n",
    "summarize = MC_even_dist.summarize_cumulative_return()\n",
    "\n",
    "# Print summary statistics\n",
    "print(summarize)"
   ]
  },
  {
   "cell_type": "markdown",
   "metadata": {},
   "source": [
    "### Calculate the expected portfolio return at the `95%` lower and upper confidence intervals based on a `$20,000` initial investment."
   ]
  },
  {
   "cell_type": "code",
   "execution_count": 25,
   "metadata": {},
   "outputs": [
    {
     "name": "stdout",
     "output_type": "stream",
     "text": [
      "There is a 95% chance that an initial investment of $20000 in the portfolio over the next 30 years will end within in the range of $1081470.5 and $6262808.74\n"
     ]
    }
   ],
   "source": [
    "# Set initial investment\n",
    "initial_investment = 20000\n",
    "\n",
    "# Use the lower and upper `95%` confidence intervals to calculate the range of the possible outcomes of our $20,000\n",
    "ci_lower = round(summarize[8]*20000,2)\n",
    "ci_upper = round(summarize[9]*20000,2)\n",
    "\n",
    "# Print results\n",
    "print(f\"There is a 95% chance that an initial investment of ${initial_investment} in the portfolio\"\n",
    "      f\" over the next 30 years will end within in the range of\"\n",
    "      f\" ${ci_lower} and ${ci_upper}\")"
   ]
  },
  {
   "cell_type": "markdown",
   "metadata": {},
   "source": [
    "### Calculate the expected portfolio return at the `95%` lower and upper confidence intervals based on a `50%` increase in the initial investment."
   ]
  },
  {
   "cell_type": "code",
   "execution_count": 28,
   "metadata": {},
   "outputs": [
    {
     "name": "stdout",
     "output_type": "stream",
     "text": [
      "There is a 95% chance that an initial investment of $30000.0 in the portfolio over the next 30 years will end within in the range of $1622205.75 and $9394213.11\n"
     ]
    }
   ],
   "source": [
    "# Set initial investment\n",
    "initial_investment = 20000 * 1.5\n",
    "\n",
    "# Use the lower and upper `95%` confidence intervals to calculate the range of the possible outcomes of our $30,000\n",
    "ci_lower = round(summarize[8]*30000,2)\n",
    "ci_upper = round(summarize[9]*30000,2)\n",
    "\n",
    "# Print results\n",
    "print(f\"There is a 95% chance that an initial investment of ${initial_investment} in the portfolio\"\n",
    "      f\" over the next 30 years will end within in the range of\"\n",
    "      f\" ${ci_lower} and ${ci_upper}\")"
   ]
  },
  {
   "cell_type": "markdown",
   "metadata": {},
   "source": [
    "## Optional Challenge - Early Retirement\n",
    "\n",
    "\n",
    "### Five Years Retirement Option"
   ]
  },
  {
   "cell_type": "code",
   "execution_count": null,
   "metadata": {},
   "outputs": [],
   "source": [
    "# Configuring a Monte Carlo simulation to forecast 5 years cumulative returns\n",
    "# YOUR CODE HERE!"
   ]
  },
  {
   "cell_type": "code",
   "execution_count": null,
   "metadata": {},
   "outputs": [],
   "source": [
    "# Running a Monte Carlo simulation to forecast 5 years cumulative returns\n",
    "# YOUR CODE HERE!"
   ]
  },
  {
   "cell_type": "code",
   "execution_count": null,
   "metadata": {},
   "outputs": [],
   "source": [
    "# Plot simulation outcomes\n",
    "# YOUR CODE HERE!"
   ]
  },
  {
   "cell_type": "code",
   "execution_count": null,
   "metadata": {},
   "outputs": [],
   "source": [
    "# Plot probability distribution and confidence intervals\n",
    "# YOUR CODE HERE!"
   ]
  },
  {
   "cell_type": "code",
   "execution_count": null,
   "metadata": {},
   "outputs": [],
   "source": [
    "# Fetch summary statistics from the Monte Carlo simulation results\n",
    "# YOUR CODE HERE!\n",
    "\n",
    "# Print summary statistics\n",
    "# YOUR CODE HERE!"
   ]
  },
  {
   "cell_type": "code",
   "execution_count": null,
   "metadata": {},
   "outputs": [],
   "source": [
    "# Set initial investment\n",
    "# YOUR CODE HERE!\n",
    "\n",
    "# Use the lower and upper `95%` confidence intervals to calculate the range of the possible outcomes of our $60,000\n",
    "# YOUR CODE HERE!\n",
    "\n",
    "# Print results\n",
    "print(f\"There is a 95% chance that an initial investment of ${initial_investment} in the portfolio\"\n",
    "      f\" over the next 5 years will end within in the range of\"\n",
    "      f\" ${ci_lower_five} and ${ci_upper_five}\")"
   ]
  },
  {
   "cell_type": "markdown",
   "metadata": {},
   "source": [
    "### Ten Years Retirement Option"
   ]
  },
  {
   "cell_type": "code",
   "execution_count": null,
   "metadata": {},
   "outputs": [],
   "source": [
    "# Configuring a Monte Carlo simulation to forecast 10 years cumulative returns\n",
    "# YOUR CODE HERE!"
   ]
  },
  {
   "cell_type": "code",
   "execution_count": null,
   "metadata": {},
   "outputs": [],
   "source": [
    "# Running a Monte Carlo simulation to forecast 10 years cumulative returns\n",
    "# YOUR CODE HERE!"
   ]
  },
  {
   "cell_type": "code",
   "execution_count": null,
   "metadata": {},
   "outputs": [],
   "source": [
    "# Plot simulation outcomes\n",
    "# YOUR CODE HERE!"
   ]
  },
  {
   "cell_type": "code",
   "execution_count": null,
   "metadata": {},
   "outputs": [],
   "source": [
    "# Plot probability distribution and confidence intervals\n",
    "# YOUR CODE HERE!"
   ]
  },
  {
   "cell_type": "code",
   "execution_count": null,
   "metadata": {},
   "outputs": [],
   "source": [
    "# Fetch summary statistics from the Monte Carlo simulation results\n",
    "# YOUR CODE HERE!\n",
    "\n",
    "# Print summary statistics\n",
    "# YOUR CODE HERE!"
   ]
  },
  {
   "cell_type": "code",
   "execution_count": null,
   "metadata": {},
   "outputs": [],
   "source": [
    "# Set initial investment\n",
    "# YOUR CODE HERE!\n",
    "\n",
    "# Use the lower and upper `95%` confidence intervals to calculate the range of the possible outcomes of our $60,000\n",
    "# YOUR CODE HERE!\n",
    "\n",
    "# Print results\n",
    "print(f\"There is a 95% chance that an initial investment of ${initial_investment} in the portfolio\"\n",
    "      f\" over the next 10 years will end within in the range of\"\n",
    "      f\" ${ci_lower_ten} and ${ci_upper_ten}\")"
   ]
  },
  {
   "cell_type": "code",
   "execution_count": null,
   "metadata": {},
   "outputs": [],
   "source": []
  }
 ],
 "metadata": {
  "kernelspec": {
   "display_name": "Python 3 (ipykernel)",
   "language": "python",
   "name": "python3"
  },
  "language_info": {
   "codemirror_mode": {
    "name": "ipython",
    "version": 3
   },
   "file_extension": ".py",
   "mimetype": "text/x-python",
   "name": "python",
   "nbconvert_exporter": "python",
   "pygments_lexer": "ipython3",
   "version": "3.8.8"
  },
  "nteract": {
   "version": "0.28.0"
  }
 },
 "nbformat": 4,
 "nbformat_minor": 4
}
